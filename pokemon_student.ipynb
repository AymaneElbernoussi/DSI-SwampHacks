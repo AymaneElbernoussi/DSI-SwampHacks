{
 "cells": [
  {
   "cell_type": "markdown",
   "metadata": {},
   "source": [
    "# DSI@SwapHacks: Data Science with Pokemon \n",
    "\n",
    "## Introduction\n",
    "This is a very condensed workshop that will teach you the process of analyzing and visualizing data and applying machine learning to solve problems. The goal is to show the thought process of a data scientist and the tools associated with it. We have some Pokemon to assist us in our efforts. <br><br>If you need help with setup please ask one of the helpers to assist.<br><br> You do not need to use Jupyter Notebook if you don't want to. We do recommend using the notebook since it is a very widely used tool by data scientists. However for other options you can use a .py file and text editor like Sublime or Atom and use <code>python3 [filename].py</code> in terminal or run the commands in the python shell if you know how to.<br><br> I will provide a link to the complete code."
   ]
  },
  {
   "cell_type": "markdown",
   "metadata": {},
   "source": [
    "### Importing Modules"
   ]
  },
  {
   "cell_type": "code",
   "execution_count": 2,
   "metadata": {},
   "outputs": [],
   "source": [
    "import pandas as pd                # Used for data analysis\n",
    "import matplotlib.pyplot as plt    # Used for assisting visualizations\n",
    "import seaborn as sns              # Main visualization library"
   ]
  },
  {
   "cell_type": "markdown",
   "metadata": {},
   "source": [
    "##### For Python 2 users. Uncomment and run this next block. "
   ]
  },
  {
   "cell_type": "code",
   "execution_count": 3,
   "metadata": {},
   "outputs": [],
   "source": [
    "# from __future__ import absolute_import, division, print_function"
   ]
  },
  {
   "cell_type": "markdown",
   "metadata": {},
   "source": [
    "### Seaborn setup\n",
    "\n",
    "**Mac/Linux Terminal:** <code>pip3 install seaborn</code><br>\n",
    "**Windows (Through Anaconda Prompt):** <code>pip3 install seaborn</code>\n",
    "\n",
    "If you have trouble later. You will need to do the following in the same location:\n",
    "<code>pip3 remove seaborn && pip3 install seaborn==0.9.0</code>\n",
    "\n",
    "\n",
    "scikit-learn is included in anaconda distributions but if you run into an error saying its not there please run this in terminal <code>pip install -U scikit-learn</code>"
   ]
  },
  {
   "cell_type": "code",
   "execution_count": 4,
   "metadata": {},
   "outputs": [],
   "source": [
    "# My personal style preferences\n",
    "sns.set(style = 'darkgrid', color_codes = True) \n",
    "\n",
    "\n",
    "# This is used as a hack in Jupyter Notebook to make seaborn plots bigger. Call before making a plot.\n",
    "def setplt(x = 15, y = 9):\n",
    "    f, ax = plt.subplots(figsize=(x, y))\n",
    "    sns.despine(f, left=True, bottom=True)"
   ]
  },
  {
   "cell_type": "markdown",
   "metadata": {},
   "source": [
    "**Reading in the CSV** (Make sure you have a link to csv or the csv is in your directory)"
   ]
  },
  {
   "cell_type": "code",
   "execution_count": 5,
   "metadata": {},
   "outputs": [],
   "source": [
    "# This should work since Pokemon.csv is in the same directory as this file\n",
    "\n",
    "# Print out the first few lines of data to make sure it's working\n"
   ]
  },
  {
   "cell_type": "markdown",
   "metadata": {},
   "source": [
    "#### Ask yourself some questions about the data"
   ]
  },
  {
   "cell_type": "markdown",
   "metadata": {},
   "source": [
    "What are the different types of pokemon?"
   ]
  },
  {
   "cell_type": "code",
   "execution_count": null,
   "metadata": {},
   "outputs": [],
   "source": []
  },
  {
   "cell_type": "markdown",
   "metadata": {},
   "source": [
    "What is the disbtribution of each type of pokemon? Lets **see** this."
   ]
  },
  {
   "cell_type": "code",
   "execution_count": 6,
   "metadata": {},
   "outputs": [],
   "source": [
    "# Here we use a countplot in seaborn.\n",
    "# Call this function before plotting in seaborn\n"
   ]
  },
  {
   "cell_type": "markdown",
   "metadata": {},
   "source": [
    "Lets see some statistics in a more whole sense."
   ]
  },
  {
   "cell_type": "code",
   "execution_count": null,
   "metadata": {},
   "outputs": [],
   "source": []
  },
  {
   "cell_type": "markdown",
   "metadata": {},
   "source": [
    "Lets visualize this."
   ]
  },
  {
   "cell_type": "code",
   "execution_count": null,
   "metadata": {},
   "outputs": [],
   "source": []
  },
  {
   "cell_type": "markdown",
   "metadata": {},
   "source": [
    "Does a Pokemon's Attack have any relationship to its Defense? Does the type of pokemon matter at all? "
   ]
  },
  {
   "cell_type": "code",
   "execution_count": null,
   "metadata": {},
   "outputs": [],
   "source": []
  },
  {
   "cell_type": "markdown",
   "metadata": {},
   "source": [
    "Is there a relationship between HP and Attack abilities. Does it matter if they are legendary?"
   ]
  },
  {
   "cell_type": "code",
   "execution_count": null,
   "metadata": {},
   "outputs": [],
   "source": []
  },
  {
   "cell_type": "markdown",
   "metadata": {},
   "source": [
    "Lets look at the distribution of HP"
   ]
  },
  {
   "cell_type": "code",
   "execution_count": null,
   "metadata": {},
   "outputs": [],
   "source": []
  },
  {
   "cell_type": "markdown",
   "metadata": {},
   "source": [
    "Lets make a subset of the data for only Legendary pokemon"
   ]
  },
  {
   "cell_type": "code",
   "execution_count": null,
   "metadata": {},
   "outputs": [],
   "source": []
  },
  {
   "cell_type": "markdown",
   "metadata": {},
   "source": [
    "Any difference in Attack and Defense overall?"
   ]
  },
  {
   "cell_type": "code",
   "execution_count": null,
   "metadata": {},
   "outputs": [],
   "source": []
  },
  {
   "cell_type": "markdown",
   "metadata": {},
   "source": [
    "Now to the question that everyone is asking...   \n",
    "### Groudon vs. Kyogre"
   ]
  },
  {
   "cell_type": "code",
   "execution_count": null,
   "metadata": {},
   "outputs": [],
   "source": []
  },
  {
   "cell_type": "markdown",
   "metadata": {},
   "source": [
    "Lets see the info for Groudon and Kyogre"
   ]
  },
  {
   "cell_type": "code",
   "execution_count": null,
   "metadata": {},
   "outputs": [],
   "source": []
  },
  {
   "cell_type": "code",
   "execution_count": 36,
   "metadata": {},
   "outputs": [],
   "source": [
    "import numpy as np\n",
    "labels = np.array(['HP', 'Attack', 'Defense', 'Sp. Atk', 'Sp. Def', 'Speed'])  # We just need to look at these\n",
    "\n",
    "groudon = useful_data.loc[423,labels].values      # Collecting the data for groudon using numpy for format it\n",
    "groudon = np.concatenate((groudon, [groudon[0]]))\n",
    "\n",
    "kyogre = useful_data.loc[421,labels].values\n",
    "kyogre = np.concatenate((kyogre, [kyogre[0]]))    # Collecting the data for kyogre using numpy for format it\n",
    "\n",
    "angles = np.linspace(0, 2*np.pi, len(labels), endpoint = False)  # Creating set points for angles given labels\n",
    "angles = np.concatenate((angles, [angles[0]]))\n"
   ]
  },
  {
   "cell_type": "markdown",
   "metadata": {},
   "source": [
    "Lets make a Radar Plot"
   ]
  },
  {
   "cell_type": "code",
   "execution_count": null,
   "metadata": {},
   "outputs": [],
   "source": [
    "# Creating figure\n",
    "fig = plt.figure(figsize = (9,9))\n",
    "rplt = fig.add_subplot(111, polar = True)\n",
    "\n",
    "# Adding kyogre\n",
    "rplt.plot(angles, kyogre, linewidth = 2)\n",
    "rplt.fill(angles, kyogre, alpha = 0.25)\n",
    "\n",
    "# Adding Groudon\n",
    "rplt.plot(angles, groudon, linewidth = 2)\n",
    "rplt.fill(angles, groudon, alpha = 0.25)\n",
    "\n",
    "# Adding labels and aesthitics\n",
    "rplt.set_thetagrids(angles*180/np.pi, labels)\n",
    "rplt.set_title(\"Groudon (Red) vs. Kyogre (Blue)\")\n",
    "rplt.grid(True)"
   ]
  },
  {
   "cell_type": "markdown",
   "metadata": {},
   "source": [
    "**WOW**"
   ]
  },
  {
   "cell_type": "markdown",
   "metadata": {},
   "source": [
    "There doesn't seem to be a clear winner. I guess we will never know  :("
   ]
  },
  {
   "cell_type": "markdown",
   "metadata": {},
   "source": [
    "## Legendary Predictor\n",
    "Building an ML model to see whether or not a pokemon is legendary. This is a simple task since we can easily train machines to detect the higher stats of legendary pokemon, but this will show you the process of implementing an ML model using python"
   ]
  },
  {
   "cell_type": "markdown",
   "metadata": {},
   "source": [
    "### Looking at Legendary"
   ]
  },
  {
   "cell_type": "code",
   "execution_count": 7,
   "metadata": {},
   "outputs": [],
   "source": [
    "# Looking to see if we have enough data for legendary pokemon\n"
   ]
  },
  {
   "cell_type": "markdown",
   "metadata": {},
   "source": [
    "#### Looking more in depth with boxenplots"
   ]
  },
  {
   "cell_type": "code",
   "execution_count": 9,
   "metadata": {},
   "outputs": [],
   "source": [
    "# Setting up subplots\n",
    "\n",
    "\n",
    "# Plotting \n",
    "\n"
   ]
  },
  {
   "cell_type": "markdown",
   "metadata": {},
   "source": [
    "Seems that there is a distinct difference in each of the attributes for legendary pokemon so we might be able to make a predictor for legendary pokemon"
   ]
  },
  {
   "cell_type": "markdown",
   "metadata": {},
   "source": [
    "### Formatting Data"
   ]
  },
  {
   "cell_type": "code",
   "execution_count": 11,
   "metadata": {},
   "outputs": [],
   "source": [
    "# Don't need these columns\n",
    "\n",
    "\n",
    "\n",
    "\n",
    "# Using the Train-Test-Split Model\n"
   ]
  },
  {
   "cell_type": "markdown",
   "metadata": {},
   "source": [
    "### Using K-Nearest-Neighbor (KNN) Model"
   ]
  },
  {
   "cell_type": "code",
   "execution_count": 12,
   "metadata": {},
   "outputs": [],
   "source": [
    "# Import classifier\n",
    "\n",
    "\n",
    "# Initialize classifier\n",
    "\n",
    "\n",
    "# Training model\n",
    "\n",
    "\n",
    "# Testing model\n",
    "\n"
   ]
  },
  {
   "cell_type": "markdown",
   "metadata": {},
   "source": [
    "#### Looking for best k-value"
   ]
  },
  {
   "cell_type": "code",
   "execution_count": null,
   "metadata": {},
   "outputs": [],
   "source": [
    "k_scores = []\n",
    "k_range = range(1,41)\n",
    "for x in range(1,41):\n",
    "    knn = KNeighborsClassifier(n_neighbors=x)\n",
    "    knn.fit(features_train, targets_train)\n",
    "    k_scores.append(knn.score(features_test, targets_test))\n",
    "\n",
    "d = {\"K-Value\": k_range, \"Accuracy\": k_scores}\n",
    "df = pd.DataFrame(data = d)\n",
    "\n",
    "setplt()\n",
    "check_k = sns.lineplot(x = \"K-Value\", y = \"Accuracy\", data = df)"
   ]
  },
  {
   "cell_type": "code",
   "execution_count": 13,
   "metadata": {},
   "outputs": [],
   "source": [
    "# Using k = peak\n"
   ]
  },
  {
   "cell_type": "markdown",
   "metadata": {},
   "source": [
    "#### Testing whole set"
   ]
  },
  {
   "cell_type": "code",
   "execution_count": null,
   "metadata": {},
   "outputs": [],
   "source": []
  },
  {
   "cell_type": "markdown",
   "metadata": {},
   "source": [
    "### Using Random Forest"
   ]
  },
  {
   "cell_type": "code",
   "execution_count": null,
   "metadata": {},
   "outputs": [],
   "source": []
  },
  {
   "cell_type": "markdown",
   "metadata": {},
   "source": [
    "#### Testing whole set"
   ]
  },
  {
   "cell_type": "code",
   "execution_count": null,
   "metadata": {},
   "outputs": [],
   "source": []
  },
  {
   "cell_type": "markdown",
   "metadata": {},
   "source": [
    "Hey that's pretty good! We can now use this Random Forest ML model to predict whether pokemon is legenday with a 98% accuracy"
   ]
  },
  {
   "cell_type": "markdown",
   "metadata": {},
   "source": [
    "## UF Data Science and Informatics"
   ]
  },
  {
   "cell_type": "markdown",
   "metadata": {},
   "source": [
    "Come out to our events this semester. Our first GBM is this Wednesday 1/23/19 at 6:30 at the UF Informatics Institute. Our workshops start next week.<br><br>Visit us at: www.dsiufl.org and join UF DSI on Facebook. "
   ]
  },
  {
   "cell_type": "code",
   "execution_count": null,
   "metadata": {},
   "outputs": [],
   "source": []
  }
 ],
 "metadata": {
  "kernelspec": {
   "display_name": "Python 3",
   "language": "python",
   "name": "python3"
  }
 },
 "nbformat": 4,
 "nbformat_minor": 2
}
